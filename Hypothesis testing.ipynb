{
 "cells": [
  {
   "cell_type": "markdown",
   "metadata": {
    "id": "6yDxo9u0d9Na"
   },
   "source": [
    "# Project Business Statistics: E-news Express"
   ]
  },
  {
   "cell_type": "markdown",
   "metadata": {
    "id": "0f3ba03a"
   },
   "source": [
    "## Business Context\n",
    "\n",
    "The advent of e-news, or electronic news, portals has offered us a great opportunity to quickly get updates on the day-to-day events occurring globally. The information on these portals is retrieved electronically from online databases, processed using a variety of software, and then transmitted to the users. There are multiple advantages of transmitting new electronically, like faster access to the content and the ability to utilize different technologies such as audio, graphics, video, and other interactive elements that are either not being used or aren’t common yet in traditional newspapers.\n",
    "\n",
    "E-news Express, an online news portal, aims to expand its business by acquiring new subscribers. With every visitor to the website taking certain actions based on their interest, the company plans to analyze these actions to understand user interests and determine how to drive better engagement.  The executives at E-news Express are of the opinion that there has been a decline in new monthly subscribers compared to the past year because the current webpage is not designed well enough in terms of the outline & recommended content to keep customers engaged long enough to make a decision to subscribe.\n",
    "\n",
    "Companies often analyze user responses to two variants of a product to decide which of the two variants is more effective. This experimental technique, known as A/B testing, is used to determine whether a new feature attracts users based on a chosen metric.\n",
    "\n",
    "\n",
    "## Objective\n",
    "\n",
    "The design team of the company has researched and created a new landing page that has a new outline & more relevant content shown compared to the old page. In order to test the effectiveness of the new landing page in gathering new subscribers, the Data Science team conducted an experiment by randomly selecting 100 users and dividing them equally into two groups. The existing landing page was served to the first group (control group) and the new landing page to the second group (treatment group). Data regarding the interaction of users in both groups with the two versions of the landing page was collected. Being a data scientist in E-news Express, you have been asked to explore the data and perform a statistical analysis (at a significance level of 5%) to determine the effectiveness of the new landing page in gathering new subscribers for the news portal by answering the following questions:\n",
    "\n",
    "1. Do the users spend more time on the new landing page than on the existing landing page?\n",
    "\n",
    "2. Is the conversion rate (the proportion of users who visit the landing page and get converted) for the new page greater than the conversion rate for the old page?\n",
    "\n",
    "3. Does the converted status depend on the preferred language?\n",
    "\n",
    "4. Is the time spent on the new page the same for the different language users?\n",
    "\n",
    "\n",
    "## Data Dictionary\n",
    "\n",
    "The data contains information regarding the interaction of users in both groups with the two versions of the landing page.\n",
    "\n",
    "1. user_id - Unique user ID of the person visiting the website\n",
    "\n",
    "2. group - Whether the user belongs to the first group (control) or the second group (treatment)\n",
    "\n",
    "3. landing_page - Whether the landing page is new or old\n",
    "\n",
    "4. time_spent_on_the_page - Time (in minutes) spent by the user on the landing page\n",
    "\n",
    "5. converted - Whether the user gets converted to a subscriber of the news portal or not\n",
    "\n",
    "6. language_preferred - Language chosen by the user to view the landing page"
   ]
  },
  {
   "cell_type": "markdown",
   "metadata": {
    "id": "a6a3d218"
   },
   "source": [
    "### Import all the necessary libraries"
   ]
  },
  {
   "cell_type": "code",
   "execution_count": 1,
   "metadata": {
    "id": "658c5dec"
   },
   "outputs": [
    {
     "name": "stderr",
     "output_type": "stream",
     "text": [
      "<frozen importlib._bootstrap>:219: RuntimeWarning: scipy._lib.messagestream.MessageStream size changed, may indicate binary incompatibility. Expected 56 from C header, got 64 from PyObject\n"
     ]
    }
   ],
   "source": [
    "import numpy as np\n",
    "import pandas as pd\n",
    "from matplotlib import pyplot as plt\n",
    "import seaborn as sns"
   ]
  },
  {
   "cell_type": "markdown",
   "metadata": {
    "id": "jppevm24HW2P"
   },
   "source": [
    "### Loading the dataset"
   ]
  },
  {
   "cell_type": "code",
   "execution_count": 2,
   "metadata": {
    "id": "d3b95640"
   },
   "outputs": [],
   "source": [
    "# complete the code below to load the dataset\n",
    "df = pd.read_csv('abtest.csv')"
   ]
  },
  {
   "cell_type": "markdown",
   "metadata": {
    "id": "9d75cfa2"
   },
   "source": [
    "## Explore the dataset and extract insights using Exploratory Data Analysis"
   ]
  },
  {
   "cell_type": "markdown",
   "metadata": {
    "id": "WnqWiys631Ms"
   },
   "source": [
    "### Data Overview"
   ]
  },
  {
   "cell_type": "markdown",
   "metadata": {
    "id": "hsjyu3B133vm"
   },
   "source": [
    "The initial steps to get an overview of any dataset is to: \n",
    "- observe the first few rows of the dataset, to check whether the dataset has been loaded properly or not\n",
    "- get information about the number of rows and columns in the dataset\n",
    "- find out the data types of the columns to ensure that data is stored in the preferred format and the value of each property is as expected.\n",
    "- check the statistical summary of the dataset to get an overview of the numerical columns of the data"
   ]
  },
  {
   "cell_type": "markdown",
   "metadata": {
    "id": "RKxn0uc73665"
   },
   "source": [
    "#### Displaying the first few rows of the dataset"
   ]
  },
  {
   "cell_type": "code",
   "execution_count": 3,
   "metadata": {
    "id": "e1ad11d4"
   },
   "outputs": [
    {
     "data": {
      "text/html": [
       "<div>\n",
       "<style scoped>\n",
       "    .dataframe tbody tr th:only-of-type {\n",
       "        vertical-align: middle;\n",
       "    }\n",
       "\n",
       "    .dataframe tbody tr th {\n",
       "        vertical-align: top;\n",
       "    }\n",
       "\n",
       "    .dataframe thead th {\n",
       "        text-align: right;\n",
       "    }\n",
       "</style>\n",
       "<table border=\"1\" class=\"dataframe\">\n",
       "  <thead>\n",
       "    <tr style=\"text-align: right;\">\n",
       "      <th></th>\n",
       "      <th>user_id</th>\n",
       "      <th>group</th>\n",
       "      <th>landing_page</th>\n",
       "      <th>time_spent_on_the_page</th>\n",
       "      <th>converted</th>\n",
       "      <th>language_preferred</th>\n",
       "    </tr>\n",
       "  </thead>\n",
       "  <tbody>\n",
       "    <tr>\n",
       "      <th>0</th>\n",
       "      <td>546592</td>\n",
       "      <td>control</td>\n",
       "      <td>old</td>\n",
       "      <td>3.48</td>\n",
       "      <td>no</td>\n",
       "      <td>Spanish</td>\n",
       "    </tr>\n",
       "    <tr>\n",
       "      <th>1</th>\n",
       "      <td>546468</td>\n",
       "      <td>treatment</td>\n",
       "      <td>new</td>\n",
       "      <td>7.13</td>\n",
       "      <td>yes</td>\n",
       "      <td>English</td>\n",
       "    </tr>\n",
       "    <tr>\n",
       "      <th>2</th>\n",
       "      <td>546462</td>\n",
       "      <td>treatment</td>\n",
       "      <td>new</td>\n",
       "      <td>4.40</td>\n",
       "      <td>no</td>\n",
       "      <td>Spanish</td>\n",
       "    </tr>\n",
       "    <tr>\n",
       "      <th>3</th>\n",
       "      <td>546567</td>\n",
       "      <td>control</td>\n",
       "      <td>old</td>\n",
       "      <td>3.02</td>\n",
       "      <td>no</td>\n",
       "      <td>French</td>\n",
       "    </tr>\n",
       "    <tr>\n",
       "      <th>4</th>\n",
       "      <td>546459</td>\n",
       "      <td>treatment</td>\n",
       "      <td>new</td>\n",
       "      <td>4.75</td>\n",
       "      <td>yes</td>\n",
       "      <td>Spanish</td>\n",
       "    </tr>\n",
       "  </tbody>\n",
       "</table>\n",
       "</div>"
      ],
      "text/plain": [
       "   user_id      group landing_page  time_spent_on_the_page converted  \\\n",
       "0   546592    control          old                    3.48        no   \n",
       "1   546468  treatment          new                    7.13       yes   \n",
       "2   546462  treatment          new                    4.40        no   \n",
       "3   546567    control          old                    3.02        no   \n",
       "4   546459  treatment          new                    4.75       yes   \n",
       "\n",
       "  language_preferred  \n",
       "0            Spanish  \n",
       "1            English  \n",
       "2            Spanish  \n",
       "3             French  \n",
       "4            Spanish  "
      ]
     },
     "execution_count": 3,
     "metadata": {},
     "output_type": "execute_result"
    }
   ],
   "source": [
    "# view the first 5 rows of the dataset\n",
    "df.head()"
   ]
  },
  {
   "cell_type": "markdown",
   "metadata": {
    "id": "3RME3ORG4FN7"
   },
   "source": [
    "#### Displaying the last few rows of the dataset"
   ]
  },
  {
   "cell_type": "code",
   "execution_count": 4,
   "metadata": {
    "id": "lPgHw1UIHy8X"
   },
   "outputs": [
    {
     "data": {
      "text/html": [
       "<div>\n",
       "<style scoped>\n",
       "    .dataframe tbody tr th:only-of-type {\n",
       "        vertical-align: middle;\n",
       "    }\n",
       "\n",
       "    .dataframe tbody tr th {\n",
       "        vertical-align: top;\n",
       "    }\n",
       "\n",
       "    .dataframe thead th {\n",
       "        text-align: right;\n",
       "    }\n",
       "</style>\n",
       "<table border=\"1\" class=\"dataframe\">\n",
       "  <thead>\n",
       "    <tr style=\"text-align: right;\">\n",
       "      <th></th>\n",
       "      <th>user_id</th>\n",
       "      <th>group</th>\n",
       "      <th>landing_page</th>\n",
       "      <th>time_spent_on_the_page</th>\n",
       "      <th>converted</th>\n",
       "      <th>language_preferred</th>\n",
       "    </tr>\n",
       "  </thead>\n",
       "  <tbody>\n",
       "    <tr>\n",
       "      <th>95</th>\n",
       "      <td>546446</td>\n",
       "      <td>treatment</td>\n",
       "      <td>new</td>\n",
       "      <td>5.15</td>\n",
       "      <td>no</td>\n",
       "      <td>Spanish</td>\n",
       "    </tr>\n",
       "    <tr>\n",
       "      <th>96</th>\n",
       "      <td>546544</td>\n",
       "      <td>control</td>\n",
       "      <td>old</td>\n",
       "      <td>6.52</td>\n",
       "      <td>yes</td>\n",
       "      <td>English</td>\n",
       "    </tr>\n",
       "    <tr>\n",
       "      <th>97</th>\n",
       "      <td>546472</td>\n",
       "      <td>treatment</td>\n",
       "      <td>new</td>\n",
       "      <td>7.07</td>\n",
       "      <td>yes</td>\n",
       "      <td>Spanish</td>\n",
       "    </tr>\n",
       "    <tr>\n",
       "      <th>98</th>\n",
       "      <td>546481</td>\n",
       "      <td>treatment</td>\n",
       "      <td>new</td>\n",
       "      <td>6.20</td>\n",
       "      <td>yes</td>\n",
       "      <td>Spanish</td>\n",
       "    </tr>\n",
       "    <tr>\n",
       "      <th>99</th>\n",
       "      <td>546483</td>\n",
       "      <td>treatment</td>\n",
       "      <td>new</td>\n",
       "      <td>5.86</td>\n",
       "      <td>yes</td>\n",
       "      <td>English</td>\n",
       "    </tr>\n",
       "  </tbody>\n",
       "</table>\n",
       "</div>"
      ],
      "text/plain": [
       "    user_id      group landing_page  time_spent_on_the_page converted  \\\n",
       "95   546446  treatment          new                    5.15        no   \n",
       "96   546544    control          old                    6.52       yes   \n",
       "97   546472  treatment          new                    7.07       yes   \n",
       "98   546481  treatment          new                    6.20       yes   \n",
       "99   546483  treatment          new                    5.86       yes   \n",
       "\n",
       "   language_preferred  \n",
       "95            Spanish  \n",
       "96            English  \n",
       "97            Spanish  \n",
       "98            Spanish  \n",
       "99            English  "
      ]
     },
     "execution_count": 4,
     "metadata": {},
     "output_type": "execute_result"
    }
   ],
   "source": [
    "# view the last 5 rows of the dataset\n",
    "df.tail()"
   ]
  },
  {
   "cell_type": "markdown",
   "metadata": {
    "id": "kNu7sMLs70mx"
   },
   "source": [
    "#### Checking the shape of the dataset"
   ]
  },
  {
   "cell_type": "code",
   "execution_count": 5,
   "metadata": {
    "id": "6n1XyRa3_VMg"
   },
   "outputs": [
    {
     "data": {
      "text/plain": [
       "(100, 6)"
      ]
     },
     "execution_count": 5,
     "metadata": {},
     "output_type": "execute_result"
    }
   ],
   "source": [
    "# view the shape of the dataset\n",
    "df.shape"
   ]
  },
  {
   "cell_type": "markdown",
   "metadata": {
    "id": "inS7KsVt724y"
   },
   "source": [
    "#### Checking the data types of the columns for the dataset"
   ]
  },
  {
   "cell_type": "code",
   "execution_count": 6,
   "metadata": {
    "id": "BeDOZQ99_mQE"
   },
   "outputs": [
    {
     "name": "stdout",
     "output_type": "stream",
     "text": [
      "<class 'pandas.core.frame.DataFrame'>\n",
      "RangeIndex: 100 entries, 0 to 99\n",
      "Data columns (total 6 columns):\n",
      " #   Column                  Non-Null Count  Dtype  \n",
      "---  ------                  --------------  -----  \n",
      " 0   user_id                 100 non-null    int64  \n",
      " 1   group                   100 non-null    object \n",
      " 2   landing_page            100 non-null    object \n",
      " 3   time_spent_on_the_page  100 non-null    float64\n",
      " 4   converted               100 non-null    object \n",
      " 5   language_preferred      100 non-null    object \n",
      "dtypes: float64(1), int64(1), object(4)\n",
      "memory usage: 4.8+ KB\n"
     ]
    }
   ],
   "source": [
    "# check the data types of the columns in the dataset\n",
    "df.info()"
   ]
  },
  {
   "cell_type": "markdown",
   "metadata": {
    "id": "99JkpQZO73Uz"
   },
   "source": [
    "#### Getting the statistical summary for the numerical variables"
   ]
  },
  {
   "cell_type": "code",
   "execution_count": 7,
   "metadata": {
    "id": "mHcaTfF0Abjp"
   },
   "outputs": [
    {
     "data": {
      "text/html": [
       "<div>\n",
       "<style scoped>\n",
       "    .dataframe tbody tr th:only-of-type {\n",
       "        vertical-align: middle;\n",
       "    }\n",
       "\n",
       "    .dataframe tbody tr th {\n",
       "        vertical-align: top;\n",
       "    }\n",
       "\n",
       "    .dataframe thead th {\n",
       "        text-align: right;\n",
       "    }\n",
       "</style>\n",
       "<table border=\"1\" class=\"dataframe\">\n",
       "  <thead>\n",
       "    <tr style=\"text-align: right;\">\n",
       "      <th></th>\n",
       "      <th>user_id</th>\n",
       "      <th>time_spent_on_the_page</th>\n",
       "    </tr>\n",
       "  </thead>\n",
       "  <tbody>\n",
       "    <tr>\n",
       "      <th>count</th>\n",
       "      <td>100.000000</td>\n",
       "      <td>100.000000</td>\n",
       "    </tr>\n",
       "    <tr>\n",
       "      <th>mean</th>\n",
       "      <td>546517.000000</td>\n",
       "      <td>5.377800</td>\n",
       "    </tr>\n",
       "    <tr>\n",
       "      <th>std</th>\n",
       "      <td>52.295779</td>\n",
       "      <td>2.378166</td>\n",
       "    </tr>\n",
       "    <tr>\n",
       "      <th>min</th>\n",
       "      <td>546443.000000</td>\n",
       "      <td>0.190000</td>\n",
       "    </tr>\n",
       "    <tr>\n",
       "      <th>25%</th>\n",
       "      <td>546467.750000</td>\n",
       "      <td>3.880000</td>\n",
       "    </tr>\n",
       "    <tr>\n",
       "      <th>50%</th>\n",
       "      <td>546492.500000</td>\n",
       "      <td>5.415000</td>\n",
       "    </tr>\n",
       "    <tr>\n",
       "      <th>75%</th>\n",
       "      <td>546567.250000</td>\n",
       "      <td>7.022500</td>\n",
       "    </tr>\n",
       "    <tr>\n",
       "      <th>max</th>\n",
       "      <td>546592.000000</td>\n",
       "      <td>10.710000</td>\n",
       "    </tr>\n",
       "  </tbody>\n",
       "</table>\n",
       "</div>"
      ],
      "text/plain": [
       "             user_id  time_spent_on_the_page\n",
       "count     100.000000              100.000000\n",
       "mean   546517.000000                5.377800\n",
       "std        52.295779                2.378166\n",
       "min    546443.000000                0.190000\n",
       "25%    546467.750000                3.880000\n",
       "50%    546492.500000                5.415000\n",
       "75%    546567.250000                7.022500\n",
       "max    546592.000000               10.710000"
      ]
     },
     "execution_count": 7,
     "metadata": {},
     "output_type": "execute_result"
    }
   ],
   "source": [
    "# write your code here to print the numerical summary statistics\n",
    "df.describe()"
   ]
  },
  {
   "cell_type": "markdown",
   "metadata": {
    "id": "XTdb30lb9M65"
   },
   "source": [
    "#### Getting the statistical summary for the categorical variables"
   ]
  },
  {
   "cell_type": "code",
   "execution_count": 8,
   "metadata": {
    "id": "JGLDFgDkIbMw"
   },
   "outputs": [
    {
     "data": {
      "text/html": [
       "<div>\n",
       "<style scoped>\n",
       "    .dataframe tbody tr th:only-of-type {\n",
       "        vertical-align: middle;\n",
       "    }\n",
       "\n",
       "    .dataframe tbody tr th {\n",
       "        vertical-align: top;\n",
       "    }\n",
       "\n",
       "    .dataframe thead th {\n",
       "        text-align: right;\n",
       "    }\n",
       "</style>\n",
       "<table border=\"1\" class=\"dataframe\">\n",
       "  <thead>\n",
       "    <tr style=\"text-align: right;\">\n",
       "      <th></th>\n",
       "      <th>group</th>\n",
       "      <th>landing_page</th>\n",
       "      <th>converted</th>\n",
       "      <th>language_preferred</th>\n",
       "    </tr>\n",
       "  </thead>\n",
       "  <tbody>\n",
       "    <tr>\n",
       "      <th>count</th>\n",
       "      <td>100</td>\n",
       "      <td>100</td>\n",
       "      <td>100</td>\n",
       "      <td>100</td>\n",
       "    </tr>\n",
       "    <tr>\n",
       "      <th>unique</th>\n",
       "      <td>2</td>\n",
       "      <td>2</td>\n",
       "      <td>2</td>\n",
       "      <td>3</td>\n",
       "    </tr>\n",
       "    <tr>\n",
       "      <th>top</th>\n",
       "      <td>control</td>\n",
       "      <td>old</td>\n",
       "      <td>yes</td>\n",
       "      <td>Spanish</td>\n",
       "    </tr>\n",
       "    <tr>\n",
       "      <th>freq</th>\n",
       "      <td>50</td>\n",
       "      <td>50</td>\n",
       "      <td>54</td>\n",
       "      <td>34</td>\n",
       "    </tr>\n",
       "  </tbody>\n",
       "</table>\n",
       "</div>"
      ],
      "text/plain": [
       "          group landing_page converted language_preferred\n",
       "count       100          100       100                100\n",
       "unique        2            2         2                  3\n",
       "top     control          old       yes            Spanish\n",
       "freq         50           50        54                 34"
      ]
     },
     "execution_count": 8,
     "metadata": {},
     "output_type": "execute_result"
    }
   ],
   "source": [
    "# write your code here to print the categorical summary statistics\n",
    "df.describe(include='object')"
   ]
  },
  {
   "cell_type": "markdown",
   "metadata": {
    "id": "UdbuWJTvukrz"
   },
   "source": [
    "### Check for missing values"
   ]
  },
  {
   "cell_type": "code",
   "execution_count": 9,
   "metadata": {
    "id": "NPQfOZgAALLC"
   },
   "outputs": [
    {
     "data": {
      "text/plain": [
       "user_id                   0\n",
       "group                     0\n",
       "landing_page              0\n",
       "time_spent_on_the_page    0\n",
       "converted                 0\n",
       "language_preferred        0\n",
       "dtype: int64"
      ]
     },
     "execution_count": 9,
     "metadata": {},
     "output_type": "execute_result"
    }
   ],
   "source": [
    "# write your code here  \n",
    "df.isnull().sum()"
   ]
  },
  {
   "cell_type": "markdown",
   "metadata": {
    "id": "wKuSrs67zZ81"
   },
   "source": [
    "### Check for duplicates"
   ]
  },
  {
   "cell_type": "code",
   "execution_count": 10,
   "metadata": {
    "id": "JSUqAbuOI6W4"
   },
   "outputs": [
    {
     "data": {
      "text/plain": [
       "False"
      ]
     },
     "execution_count": 10,
     "metadata": {},
     "output_type": "execute_result"
    }
   ],
   "source": [
    "# write your code here  \n",
    "df.duplicated().any()"
   ]
  },
  {
   "cell_type": "markdown",
   "metadata": {
    "id": "68f3b2c9"
   },
   "source": [
    "### Univariate Analysis"
   ]
  },
  {
   "cell_type": "markdown",
   "metadata": {
    "id": "NAkPh1ThBTGD"
   },
   "source": [
    "#### Time spent on the page"
   ]
  },
  {
   "cell_type": "code",
   "execution_count": 11,
   "metadata": {
    "id": "3dsXz9R6BXIX"
   },
   "outputs": [
    {
     "data": {
      "image/png": "[encoded data removed]",
      "text/plain": [
       "<Figure size 432x288 with 1 Axes>"
      ]
     },
     "metadata": {
      "needs_background": "light"
     },
     "output_type": "display_data"
    },
    {
     "data": {
      "image/png": "[encoded data removed]",
      "text/plain": [
       "<Figure size 432x288 with 1 Axes>"
      ]
     },
     "metadata": {
      "needs_background": "light"
     },
     "output_type": "display_data"
    }
   ],
   "source": [
    "sns.histplot(data=df,x='time_spent_on_the_page')\n",
    "plt.show()\n",
    "sns.boxplot(data=df,x='time_spent_on_the_page')\n",
    "plt.show()"
   ]
  },
  {
   "cell_type": "markdown",
   "metadata": {
    "id": "e6f99481"
   },
   "source": [
    "#### Group"
   ]
  },
  {
   "cell_type": "code",
   "execution_count": 12,
   "metadata": {
    "id": "-EckQbpMAsp1"
   },
   "outputs": [
    {
     "data": {
      "text/plain": [
       "control      50\n",
       "treatment    50\n",
       "Name: group, dtype: int64"
      ]
     },
     "execution_count": 12,
     "metadata": {},
     "output_type": "execute_result"
    }
   ],
   "source": [
    "df['group'].value_counts()"
   ]
  },
  {
   "cell_type": "code",
   "execution_count": 13,
   "metadata": {
    "id": "ROvZjuEGBm0t"
   },
   "outputs": [
    {
     "data": {
      "image/png": "[encoded data removed]",
      "text/plain": [
       "<Figure size 432x288 with 1 Axes>"
      ]
     },
     "metadata": {
      "needs_background": "light"
     },
     "output_type": "display_data"
    }
   ],
   "source": [
    "sns.countplot(data=df,x='group')\n",
    "plt.show()"
   ]
  },
  {
   "cell_type": "markdown",
   "metadata": {
    "id": "sSdc8YDbBr9Y"
   },
   "source": [
    "#### Landing page"
   ]
  },
  {
   "cell_type": "code",
   "execution_count": 14,
   "metadata": {
    "id": "6LlJXjzBA_jP"
   },
   "outputs": [
    {
     "data": {
      "text/plain": [
       "old    50\n",
       "new    50\n",
       "Name: landing_page, dtype: int64"
      ]
     },
     "execution_count": 14,
     "metadata": {},
     "output_type": "execute_result"
    }
   ],
   "source": [
    "df['landing_page'].value_counts()"
   ]
  },
  {
   "cell_type": "code",
   "execution_count": 15,
   "metadata": {
    "id": "CbIZgbOzBuxF"
   },
   "outputs": [
    {
     "data": {
      "image/png": "[encoded data removed]",
      "text/plain": [
       "<Figure size 432x288 with 1 Axes>"
      ]
     },
     "metadata": {
      "needs_background": "light"
     },
     "output_type": "display_data"
    }
   ],
   "source": [
    "# complete the code to plot the countplot\n",
    "sns.countplot(data=df,x='landing_page')\n",
    "plt.show()"
   ]
  },
  {
   "cell_type": "markdown",
   "metadata": {
    "id": "3Rex1rUxB3YZ"
   },
   "source": [
    "#### Converted"
   ]
  },
  {
   "cell_type": "code",
   "execution_count": 16,
   "metadata": {
    "id": "z80t7LK5BCBT"
   },
   "outputs": [
    {
     "data": {
      "text/plain": [
       "yes    54\n",
       "no     46\n",
       "Name: converted, dtype: int64"
      ]
     },
     "execution_count": 16,
     "metadata": {},
     "output_type": "execute_result"
    }
   ],
   "source": [
    "df['converted'].value_counts()"
   ]
  },
  {
   "cell_type": "code",
   "execution_count": 17,
   "metadata": {
    "id": "qIMrpxF4B7an"
   },
   "outputs": [
    {
     "data": {
      "image/png": "[encoded data removed]",
      "text/plain": [
       "<Figure size 432x288 with 1 Axes>"
      ]
     },
     "metadata": {
      "needs_background": "light"
     },
     "output_type": "display_data"
    }
   ],
   "source": [
    "# complete the code to plot the countplot\n",
    "sns.countplot(data=df,x='converted')\n",
    "plt.show()"
   ]
  },
  {
   "cell_type": "markdown",
   "metadata": {
    "id": "agkGFqokCOb8"
   },
   "source": [
    "#### Language preferred"
   ]
  },
  {
   "cell_type": "code",
   "execution_count": 18,
   "metadata": {
    "id": "_g2CBicdBDF0"
   },
   "outputs": [
    {
     "data": {
      "text/plain": [
       "Spanish    34\n",
       "French     34\n",
       "English    32\n",
       "Name: language_preferred, dtype: int64"
      ]
     },
     "execution_count": 18,
     "metadata": {},
     "output_type": "execute_result"
    }
   ],
   "source": [
    "df['language_preferred'].value_counts()"
   ]
  },
  {
   "cell_type": "code",
   "execution_count": 19,
   "metadata": {
    "id": "BYnVZH8ECQaY"
   },
   "outputs": [
    {
     "data": {
      "image/png": "[encoded data removed]",
      "text/plain": [
       "<Figure size 432x288 with 1 Axes>"
      ]
     },
     "metadata": {
      "needs_background": "light"
     },
     "output_type": "display_data"
    }
   ],
   "source": [
    "# complete the code to plot the countplot\n",
    "sns.countplot(data=df,x='language_preferred')\n",
    "plt.show()"
   ]
  },
  {
   "cell_type": "markdown",
   "metadata": {
    "id": "fad2de2f"
   },
   "source": [
    "### Bivariate Analysis"
   ]
  },
  {
   "cell_type": "markdown",
   "metadata": {
    "id": "58e9a1d0"
   },
   "source": [
    "#### Landing page vs Time spent on the page"
   ]
  },
  {
   "cell_type": "code",
   "execution_count": 20,
   "metadata": {
    "id": "2y7N8qQiDEfn"
   },
   "outputs": [
    {
     "data": {
      "image/png": "[encoded data removed]",
      "text/plain": [
       "<Figure size 720x432 with 1 Axes>"
      ]
     },
     "metadata": {
      "needs_background": "light"
     },
     "output_type": "display_data"
    }
   ],
   "source": [
    "plt.figure(figsize=(10,6))\n",
    "sns.boxplot(data=df,x='landing_page',y='time_spent_on_the_page')\n",
    "plt.show()"
   ]
  },
  {
   "cell_type": "markdown",
   "metadata": {
    "id": "q9dW3eB-DTBF"
   },
   "source": [
    "#### Conversion status vs Time spent on the page"
   ]
  },
  {
   "cell_type": "code",
   "execution_count": 21,
   "metadata": {
    "id": "yPqV_UsvDURc"
   },
   "outputs": [
    {
     "data": {
      "image/png": "[encoded data removed]",
      "text/plain": [
       "<Figure size 648x648 with 1 Axes>"
      ]
     },
     "metadata": {
      "needs_background": "light"
     },
     "output_type": "display_data"
    }
   ],
   "source": [
    "# complete the code to plot a suitable graph to understand the relationship between 'time_spent_on_the_page' and 'converted' columns\n",
    "plt.figure(figsize=(9, 9))\n",
    "sns.boxplot(data = df, x = 'converted', y = 'time_spent_on_the_page')\n",
    "plt.show()"
   ]
  },
  {
   "cell_type": "markdown",
   "metadata": {
    "id": "67Ozc0p8Dmbe"
   },
   "source": [
    "#### Language preferred vs Time spent on the page"
   ]
  },
  {
   "cell_type": "code",
   "execution_count": 22,
   "metadata": {
    "id": "IaFp53rDDn2W"
   },
   "outputs": [
    {
     "data": {
      "image/png": "[encoded data removed]",
      "text/plain": [
       "<Figure size 648x648 with 1 Axes>"
      ]
     },
     "metadata": {
      "needs_background": "light"
     },
     "output_type": "display_data"
    }
   ],
   "source": [
    "# write the code to plot a suitable graph to understand the distribution of 'time_spent_on_the_page' among the 'language_preferred'\n",
    "plt.figure(figsize=(9, 9))\n",
    "sns.boxplot(data = df, x = 'language_preferred', y = 'time_spent_on_the_page')\n",
    "plt.show()"
   ]
  },
  {
   "cell_type": "markdown",
   "metadata": {},
   "source": [
    "In summary;\n",
    "\n",
    "* The dataset contains 100 rows and 6 columns. There are no null values and also no duplicates.\n",
    "* The only numerical (continuous column) is the 'time_spent_on_the_page' column. It is normally distributed without any skews.\n",
    "* For the categorical columns, the group and landing page are evenly distributed with 50 observations each.\n",
    "* The language preferred column contains 3 languages - English, French and Spanish. We can observe that the people who converted spend more time on average on the page\n",
    "* We can also observe visually that people spend more time on the new page than the old but we would calculate if this observation is statisfically significant."
   ]
  },
  {
   "cell_type": "markdown",
   "metadata": {
    "id": "27906576"
   },
   "source": [
    "## 1. Do the users spend more time on the new landing page than the existing landing page?"
   ]
  },
  {
   "cell_type": "markdown",
   "metadata": {
    "id": "e5fdf0c8"
   },
   "source": [
    "### Perform Visual Analysis"
   ]
  },
  {
   "cell_type": "code",
   "execution_count": 23,
   "metadata": {
    "id": "6eZJa41eg21n"
   },
   "outputs": [
    {
     "data": {
      "image/png": "[encoded data removed]",
      "text/plain": [
       "<Figure size 576x432 with 1 Axes>"
      ]
     },
     "metadata": {
      "needs_background": "light"
     },
     "output_type": "display_data"
    }
   ],
   "source": [
    "# visual analysis of the time spent on the new page and the time spent on the old page\n",
    "plt.figure(figsize=(8,6))\n",
    "sns.boxplot(x = 'landing_page', y = 'time_spent_on_the_page', data = df)\n",
    "plt.show()"
   ]
  },
  {
   "cell_type": "markdown",
   "metadata": {
    "id": "56b3dafd"
   },
   "source": [
    "### Step 1: Define the null and alternate hypotheses"
   ]
  },
  {
   "cell_type": "markdown",
   "metadata": {
    "id": "d2ac77ef"
   },
   "source": [
    "$H_0$: average time spent on old page >= average time spent on new page\n",
    "\n",
    "$H_a$: Average time spent on old page < average time spent on new page\n"
   ]
  },
  {
   "cell_type": "markdown",
   "metadata": {
    "id": "c7ee4907"
   },
   "source": [
    "### Step 2: Select Appropriate test"
   ]
  },
  {
   "cell_type": "markdown",
   "metadata": {
    "id": "2c183cd7"
   },
   "source": [
    "This is a one-tailed test concerning two population means from two independent populations. The population standard deviations are unknown. **Based on this information, select the appropriate test**."
   ]
  },
  {
   "cell_type": "markdown",
   "metadata": {
    "id": "3f58c9a7"
   },
   "source": [
    "### Step 3: Decide the significance level"
   ]
  },
  {
   "cell_type": "markdown",
   "metadata": {
    "id": "92d7d7ee"
   },
   "source": [
    "As given in the problem statement, we select $\\alpha = 0.05$."
   ]
  },
  {
   "cell_type": "markdown",
   "metadata": {
    "id": "5fed2eac"
   },
   "source": [
    "### Step 4: Collect and prepare data"
   ]
  },
  {
   "cell_type": "code",
   "execution_count": 24,
   "metadata": {
    "id": "f5a59495"
   },
   "outputs": [],
   "source": [
    "# create subsetted data frame for new landing page users \n",
    "time_spent_new = df[df['landing_page'] == 'new']['time_spent_on_the_page']\n",
    "\n",
    "# create subsetted data frame for old landing page users\n",
    "time_spent_old = df[df['landing_page'] == 'old']['time_spent_on_the_page'] ##Complete the code"
   ]
  },
  {
   "cell_type": "code",
   "execution_count": 25,
   "metadata": {},
   "outputs": [
    {
     "name": "stdout",
     "output_type": "stream",
     "text": [
      "The sample mean of the time spent on the new page is: 6.22\n",
      "The sample mean of the time spent on the new page is: 4.53\n"
     ]
    }
   ],
   "source": [
    "print('The sample mean of the time spent on the new page is:', round(time_spent_new.mean(),2))\n",
    "print('The sample mean of the time spent on the new page is:', round(time_spent_old.mean(),2))"
   ]
  },
  {
   "cell_type": "code",
   "execution_count": 26,
   "metadata": {
    "id": "tNGXW88MFxFz"
   },
   "outputs": [
    {
     "name": "stdout",
     "output_type": "stream",
     "text": [
      "The sample standard deviation of the time spent on the new page is: 1.82\n",
      "The sample standard deviation of the time spent on the new page is: 2.58\n"
     ]
    }
   ],
   "source": [
    "print('The sample standard deviation of the time spent on the new page is:', round(time_spent_new.std(),2))\n",
    "print('The sample standard deviation of the time spent on the new page is:', round(time_spent_old.std(),2))"
   ]
  },
  {
   "cell_type": "markdown",
   "metadata": {
    "id": "Qa4jX7dwF1w-"
   },
   "source": [
    "**Based on the sample standard deviations of the two groups, decide whether the population standard deviations can be assumed to be equal or unequal**."
   ]
  },
  {
   "cell_type": "markdown",
   "metadata": {
    "id": "f5c5258d"
   },
   "source": [
    "### Step 5: Calculate the p-value"
   ]
  },
  {
   "cell_type": "code",
   "execution_count": 29,
   "metadata": {
    "id": "fac8594a"
   },
   "outputs": [
    {
     "name": "stdout",
     "output_type": "stream",
     "text": [
      "The p-value is 0.0001392381225166549\n"
     ]
    }
   ],
   "source": [
    "# complete the code to import the required function\n",
    "from scipy.stats import ttest_ind\n",
    "\n",
    "# write the code to calculate the p-value\n",
    "test_stat, p_value =  ttest_ind(time_spent_new, time_spent_old, equal_var = False, alternative = 'greater')  #complete the code by filling appropriate parameters in the blanks\n",
    "\n",
    "print('The p-value is', p_value)"
   ]
  },
  {
   "cell_type": "markdown",
   "metadata": {
    "id": "359b12f8"
   },
   "source": [
    "### Step 6: Compare the p-value with $\\alpha$"
   ]
  },
  {
   "cell_type": "code",
   "execution_count": 30,
   "metadata": {
    "id": "7be47289"
   },
   "outputs": [
    {
     "name": "stdout",
     "output_type": "stream",
     "text": [
      "As the p-value 0.0001392381225166549 is less than the level of significance, we reject the null hypothesis.\n"
     ]
    }
   ],
   "source": [
    "# print the conclusion based on p-value\n",
    "if p_value < 0.05:\n",
    "    print(f'As the p-value {p_value} is less than the level of significance, we reject the null hypothesis.')\n",
    "else:\n",
    "    print(f'As the p-value {p_value} is greater than the level of significance, we fail to reject the null hypothesis.')"
   ]
  },
  {
   "cell_type": "markdown",
   "metadata": {
    "id": "d9affc84"
   },
   "source": [
    "### Step 7:  Draw inference"
   ]
  },
  {
   "cell_type": "markdown",
   "metadata": {
    "id": "6b16dd4b"
   },
   "source": [
    "For the first test, we have a p value of 0.00014, hence, we reject the null hypothesis. This corresponds to a confidence level of about 99.99%. In other words we are about 99.99% confident that users would probably spend more time on the new page than they would on the old. "
   ]
  },
  {
   "cell_type": "markdown",
   "metadata": {
    "id": "353e9d24"
   },
   "source": [
    "## 2. Is the conversion rate (the proportion of users who visit the landing page and get converted) for the new page greater than the conversion rate for the old page?"
   ]
  },
  {
   "cell_type": "markdown",
   "metadata": {
    "id": "ZmZfv9znHmuI"
   },
   "source": [
    "### Perform Visual Analysis"
   ]
  },
  {
   "cell_type": "code",
   "execution_count": 31,
   "metadata": {
    "id": "b7f52898"
   },
   "outputs": [
    {
     "data": {
      "image/png": "[encoded data removed]",
      "text/plain": [
       "<Figure size 432x576 with 1 Axes>"
      ]
     },
     "metadata": {
      "needs_background": "light"
     },
     "output_type": "display_data"
    }
   ],
   "source": [
    "# complete the code to visually compare the conversion rate for the new page and the conversion rate for the old page\n",
    "pd.crosstab(df['landing_page'],df['converted'],normalize='index').plot(kind=\"bar\", figsize=(6,8),stacked=True)\n",
    "plt.legend()\n",
    "plt.show()"
   ]
  },
  {
   "cell_type": "markdown",
   "metadata": {
    "id": "0LKutu87H7yi"
   },
   "source": [
    "### Step 1: Define the null and alternate hypotheses"
   ]
  },
  {
   "cell_type": "markdown",
   "metadata": {
    "id": "VjdHgQQPLIim"
   },
   "source": [
    "$H_0:$ Conversion rate for old page >= conversion rate for new page\n",
    "\n",
    "$H_a:$ Conversion rate for new page > conversion rate for old page"
   ]
  },
  {
   "cell_type": "markdown",
   "metadata": {
    "id": "3QVRe46rH7yx"
   },
   "source": [
    "### Step 2: Select Appropriate test"
   ]
  },
  {
   "cell_type": "markdown",
   "metadata": {
    "id": "VAlgwuRXIA8Z"
   },
   "source": [
    "This is a one-tailed test concerning two population proportions from two independent populations. **Based on this information, select the appropriate test**."
   ]
  },
  {
   "cell_type": "markdown",
   "metadata": {
    "id": "QFo6RyfxIM9j"
   },
   "source": [
    "### Step 3: Decide the significance level"
   ]
  },
  {
   "cell_type": "markdown",
   "metadata": {
    "id": "NLuVA-hpIM9k"
   },
   "source": [
    "As given in the problem statement, we select α = 0.05."
   ]
  },
  {
   "cell_type": "markdown",
   "metadata": {
    "id": "L6XEIeGgIM9m"
   },
   "source": [
    "### Step 4: Collect and prepare data"
   ]
  },
  {
   "cell_type": "code",
   "execution_count": 32,
   "metadata": {
    "id": "Sbtfr2N6INtG"
   },
   "outputs": [
    {
     "name": "stdout",
     "output_type": "stream",
     "text": [
      "The numbers of users served the new and old pages are 50 and 50 respectively\n"
     ]
    }
   ],
   "source": [
    "# calculate the number of converted users in the treatment group\n",
    "new_converted = df[df['group'] == 'treatment']['converted'].value_counts()['yes']\n",
    "# calculate the number of converted users in the control group\n",
    "old_converted = df[df['group'] == 'control']['converted'].value_counts()['yes'] # complete your code here\n",
    "\n",
    "n_control = df.group.value_counts()['control'] # total number of users in the control group\n",
    "n_treatment = df.group.value_counts()['treatment'] # total number of users in the treatment group\n",
    "\n",
    "print('The numbers of users served the new and old pages are {0} and {1} respectively'.format(n_control, n_treatment ))"
   ]
  },
  {
   "cell_type": "code",
   "execution_count": 33,
   "metadata": {},
   "outputs": [
    {
     "name": "stdout",
     "output_type": "stream",
     "text": [
      "The number of users that got converted in the new and old pages are 33 and 21 respectively\n"
     ]
    }
   ],
   "source": [
    "print(f'The number of users that got converted in the new and old pages are {new_converted} and {old_converted} respectively')"
   ]
  },
  {
   "cell_type": "markdown",
   "metadata": {
    "id": "Szx7nkG-I-87"
   },
   "source": [
    "### Step 5: Calculate the p-value"
   ]
  },
  {
   "cell_type": "code",
   "execution_count": 34,
   "metadata": {
    "id": "0kAItTuKI-88"
   },
   "outputs": [
    {
     "name": "stdout",
     "output_type": "stream",
     "text": [
      "The p-value is 0.008026308204056278\n"
     ]
    }
   ],
   "source": [
    "# complete the code to import the required function\n",
    "from statsmodels.stats.proportion import proportions_ztest  \n",
    "\n",
    "# write the code to calculate the p-value\n",
    "test_stat, p_value = proportions_ztest([new_converted, old_converted] , [n_treatment, n_control], alternative ='larger')   #complete the code by filling appropriate parameters in the blanks\n",
    "\n",
    "\n",
    "print('The p-value is', p_value)"
   ]
  },
  {
   "cell_type": "markdown",
   "metadata": {
    "id": "3koFwBllI-88"
   },
   "source": [
    "### Step 6: Compare the p-value with $\\alpha$"
   ]
  },
  {
   "cell_type": "code",
   "execution_count": 35,
   "metadata": {
    "id": "OTR1ANvmI-88"
   },
   "outputs": [
    {
     "name": "stdout",
     "output_type": "stream",
     "text": [
      "As the p-value 0.008026308204056278 is less than the level of significance, we reject the null hypothesis.\n"
     ]
    }
   ],
   "source": [
    "# print the conclusion based on p-value\n",
    "if p_value < 0.05:\n",
    "    print(f'As the p-value {p_value} is less than the level of significance, we reject the null hypothesis.')\n",
    "else:\n",
    "    print(f'As the p-value {p_value} is greater than the level of significance, we fail to reject the null hypothesis.')"
   ]
  },
  {
   "cell_type": "markdown",
   "metadata": {
    "id": "LzcK3E4rI-89"
   },
   "source": [
    "### Step 7:  Draw inference"
   ]
  },
  {
   "cell_type": "markdown",
   "metadata": {
    "id": "u_KsjYc_I-89"
   },
   "source": [
    "Since the p value is less than the level of significance, we can reject the null hypothesis. a p value of 0.0080 would imply that we are about 99.2% confident that the conversion rate (which is the proportion of users who visit the landing page and get converted) for the new page is greater than the conversion rate for the old page"
   ]
  },
  {
   "cell_type": "markdown",
   "metadata": {
    "id": "d49bfa2d"
   },
   "source": [
    "## 3. Does the converted status depend on the preferred language?"
   ]
  },
  {
   "cell_type": "markdown",
   "metadata": {
    "id": "0Yx13sMQJUHR"
   },
   "source": [
    "### Perform Visual Analysis"
   ]
  },
  {
   "cell_type": "code",
   "execution_count": 37,
   "metadata": {
    "id": "1l_ue1yEJUHf"
   },
   "outputs": [
    {
     "data": {
      "image/png": "[encoded data removed]",
      "text/plain": [
       "<Figure size 432x576 with 1 Axes>"
      ]
     },
     "metadata": {
      "needs_background": "light"
     },
     "output_type": "display_data"
    }
   ],
   "source": [
    "# complete the code to visually plot the dependency between conversion status and preferred langauge\n",
    "pd.crosstab(df['language_preferred'],df['converted'],normalize='index').plot(kind=\"bar\", figsize=(6,8), stacked=True)\n",
    "plt.legend()\n",
    "plt.show()\n"
   ]
  },
  {
   "cell_type": "markdown",
   "metadata": {
    "id": "pG7oKB7QJUHf"
   },
   "source": [
    "### Step 1: Define the null and alternate hypotheses"
   ]
  },
  {
   "cell_type": "markdown",
   "metadata": {
    "id": "q86NUDAZLnbR"
   },
   "source": [
    "$H_0:$ No relationship exist with the language and preferred status\n",
    "\n",
    "$H_a:$ A relationship does exist\n",
    "\n"
   ]
  },
  {
   "cell_type": "markdown",
   "metadata": {
    "id": "TQTrplAaJUHg"
   },
   "source": [
    "### Step 2: Select Appropriate test"
   ]
  },
  {
   "cell_type": "markdown",
   "metadata": {
    "id": "fLW6QhhPJUHg"
   },
   "source": [
    "This is a problem of the test of independence, concerning two categorical variables - converted status and preferred language. **Based on this information, select the appropriate test.**"
   ]
  },
  {
   "cell_type": "markdown",
   "metadata": {
    "id": "hOZSCAvrJUHg"
   },
   "source": [
    "### Step 3: Decide the significance level"
   ]
  },
  {
   "cell_type": "markdown",
   "metadata": {
    "id": "wDGvFYjRJUHg"
   },
   "source": [
    "As given in the problem statement, we select α = 0.05."
   ]
  },
  {
   "cell_type": "markdown",
   "metadata": {
    "id": "rRZiuBfOJUHg"
   },
   "source": [
    "### Step 4: Collect and prepare data"
   ]
  },
  {
   "cell_type": "code",
   "execution_count": 38,
   "metadata": {
    "id": "zzvjITNZJUHh"
   },
   "outputs": [
    {
     "data": {
      "text/html": [
       "<div>\n",
       "<style scoped>\n",
       "    .dataframe tbody tr th:only-of-type {\n",
       "        vertical-align: middle;\n",
       "    }\n",
       "\n",
       "    .dataframe tbody tr th {\n",
       "        vertical-align: top;\n",
       "    }\n",
       "\n",
       "    .dataframe thead th {\n",
       "        text-align: right;\n",
       "    }\n",
       "</style>\n",
       "<table border=\"1\" class=\"dataframe\">\n",
       "  <thead>\n",
       "    <tr style=\"text-align: right;\">\n",
       "      <th>language_preferred</th>\n",
       "      <th>English</th>\n",
       "      <th>French</th>\n",
       "      <th>Spanish</th>\n",
       "    </tr>\n",
       "    <tr>\n",
       "      <th>converted</th>\n",
       "      <th></th>\n",
       "      <th></th>\n",
       "      <th></th>\n",
       "    </tr>\n",
       "  </thead>\n",
       "  <tbody>\n",
       "    <tr>\n",
       "      <th>no</th>\n",
       "      <td>11</td>\n",
       "      <td>19</td>\n",
       "      <td>16</td>\n",
       "    </tr>\n",
       "    <tr>\n",
       "      <th>yes</th>\n",
       "      <td>21</td>\n",
       "      <td>15</td>\n",
       "      <td>18</td>\n",
       "    </tr>\n",
       "  </tbody>\n",
       "</table>\n",
       "</div>"
      ],
      "text/plain": [
       "language_preferred  English  French  Spanish\n",
       "converted                                   \n",
       "no                       11      19       16\n",
       "yes                      21      15       18"
      ]
     },
     "execution_count": 38,
     "metadata": {},
     "output_type": "execute_result"
    }
   ],
   "source": [
    "# complete the code to create a contingency table showing the distribution of the two categorical variables\n",
    "contingency_table = pd.crosstab(df['converted'], df['language_preferred'])  \n",
    "\n",
    "contingency_table"
   ]
  },
  {
   "cell_type": "markdown",
   "metadata": {
    "id": "WKsL1bnGJUHh"
   },
   "source": [
    "### Step 5: Calculate the p-value"
   ]
  },
  {
   "cell_type": "code",
   "execution_count": 39,
   "metadata": {
    "id": "5T87wmlEJUHh"
   },
   "outputs": [
    {
     "name": "stdout",
     "output_type": "stream",
     "text": [
      "The p-value is 0.21298887487543447\n"
     ]
    }
   ],
   "source": [
    "# complete the code to import the required function\n",
    "from scipy.stats import chi2_contingency \n",
    "\n",
    "# write the code to calculate the p-value\n",
    "chi2, p_value, dof, exp_freq = chi2_contingency(contingency_table)   # #complete the code by filling appropriate parameters in the blanks\n",
    "\n",
    "print('The p-value is', p_value)"
   ]
  },
  {
   "cell_type": "markdown",
   "metadata": {
    "id": "O7hxW9bhJUHh"
   },
   "source": [
    "### Step 6: Compare the p-value with $\\alpha$"
   ]
  },
  {
   "cell_type": "code",
   "execution_count": 40,
   "metadata": {
    "id": "z4i5F7TTJUHh"
   },
   "outputs": [
    {
     "name": "stdout",
     "output_type": "stream",
     "text": [
      "As the p-value 0.21298887487543447 is greater than the level of significance, we fail to reject the null hypothesis.\n"
     ]
    }
   ],
   "source": [
    "# print the conclusion based on p-value\n",
    "if p_value < 0.05:\n",
    "    print(f'As the p-value {p_value} is less than the level of significance, we reject the null hypothesis.')\n",
    "else:\n",
    "    print(f'As the p-value {p_value} is greater than the level of significance, we fail to reject the null hypothesis.')"
   ]
  },
  {
   "cell_type": "markdown",
   "metadata": {
    "id": "NpQs87d3JUHh"
   },
   "source": [
    "### Step 7:  Draw inference"
   ]
  },
  {
   "cell_type": "markdown",
   "metadata": {
    "id": "nWL_M80mJUHi"
   },
   "source": [
    "SInce the p value is greater than the level of significance, we fail to reject the null hypothesis. This means that we are only about 79.7% sure of the results and that there is a 21.3% chance that the result are due to a random chance.\n"
   ]
  },
  {
   "cell_type": "markdown",
   "metadata": {
    "id": "8d585a90"
   },
   "source": [
    "## 4. Is the time spent on the new page same for the different language users?"
   ]
  },
  {
   "cell_type": "markdown",
   "metadata": {
    "id": "Zv5zTG0_KmOM"
   },
   "source": [
    "### Perform Visual Analysis"
   ]
  },
  {
   "cell_type": "code",
   "execution_count": 41,
   "metadata": {
    "id": "c8f1e4d4"
   },
   "outputs": [],
   "source": [
    "# create a new DataFrame for users who got served the new page\n",
    "df_new = df[df['landing_page'] == 'new']"
   ]
  },
  {
   "cell_type": "code",
   "execution_count": 42,
   "metadata": {
    "id": "juWwwrwzKmOa"
   },
   "outputs": [
    {
     "data": {
      "image/png": "[encoded data removed]",
      "text/plain": [
       "<Figure size 576x576 with 1 Axes>"
      ]
     },
     "metadata": {
      "needs_background": "light"
     },
     "output_type": "display_data"
    }
   ],
   "source": [
    "# complete the code to visually plot the time spent on the new page for different language users\n",
    "plt.figure(figsize=(8,8))\n",
    "sns.boxplot(x = 'language_preferred', y = 'time_spent_on_the_page', showmeans = True, data = df_new)\n",
    "plt.show()"
   ]
  },
  {
   "cell_type": "code",
   "execution_count": 43,
   "metadata": {
    "id": "9vqA04lsK_aZ"
   },
   "outputs": [
    {
     "data": {
      "text/plain": [
       "language_preferred\n",
       "English    6.663750\n",
       "French     6.196471\n",
       "Spanish    5.835294\n",
       "Name: time_spent_on_the_page, dtype: float64"
      ]
     },
     "execution_count": 43,
     "metadata": {},
     "output_type": "execute_result"
    }
   ],
   "source": [
    "# complete the code to calculate the mean time spent on the new page for different language users\n",
    "df_new.groupby(['language_preferred'])['time_spent_on_the_page'].mean()\n"
   ]
  },
  {
   "cell_type": "markdown",
   "metadata": {
    "id": "BGDAeivqKmOa"
   },
   "source": [
    "### Step 1: Define the null and alternate hypotheses"
   ]
  },
  {
   "cell_type": "markdown",
   "metadata": {
    "id": "gz8FnmCvMio1"
   },
   "source": [
    "$H_0:$ Time spent on new page is the same for all 3 languages\n",
    "\n",
    "$H_a:$ Time spent on new page is different for at least 1 language"
   ]
  },
  {
   "cell_type": "markdown",
   "metadata": {
    "id": "GNjvZTS2KmOb"
   },
   "source": [
    "### Step 2: Select Appropriate test"
   ]
  },
  {
   "cell_type": "markdown",
   "metadata": {
    "id": "lNNnMnJZKmOb"
   },
   "source": [
    "This is a problem, concerning three population means. **Based on this information, select the appropriate test to compare the three population means.**"
   ]
  },
  {
   "cell_type": "markdown",
   "metadata": {
    "id": "VTouvcdxKmOc"
   },
   "source": [
    "### Step 3: Decide the significance level"
   ]
  },
  {
   "cell_type": "markdown",
   "metadata": {
    "id": "cNtIWQCyKmOc"
   },
   "source": [
    "As given in the problem statement, we select α = 0.05."
   ]
  },
  {
   "cell_type": "markdown",
   "metadata": {
    "id": "ni6wGl2MKmOc"
   },
   "source": [
    "### Step 4: Collect and prepare data"
   ]
  },
  {
   "cell_type": "code",
   "execution_count": 44,
   "metadata": {
    "id": "XThNwfviKmOd"
   },
   "outputs": [],
   "source": [
    "# create a subsetted data frame of the time spent on the new page by English language users \n",
    "time_spent_English = df_new[df_new['language_preferred']==\"English\"]['time_spent_on_the_page']\n",
    "# create subsetted data frames of the time spent on the new page by French and Spanish language users\n",
    "time_spent_French = df_new[df_new['language_preferred']==\"French\"]['time_spent_on_the_page']   # complete your code here\n",
    "time_spent_Spanish = df_new[df_new['language_preferred']==\"Spanish\"]['time_spent_on_the_page']   # complete your code here"
   ]
  },
  {
   "cell_type": "markdown",
   "metadata": {
    "id": "8F-VCtK7KmOd"
   },
   "source": [
    "### Step 5: Calculate the p-value"
   ]
  },
  {
   "cell_type": "code",
   "execution_count": 45,
   "metadata": {
    "id": "D_jngM0gKmOd"
   },
   "outputs": [
    {
     "name": "stdout",
     "output_type": "stream",
     "text": [
      "The p-value is 0.43204138694325955\n"
     ]
    }
   ],
   "source": [
    "# complete the code to import the required function\n",
    "from scipy.stats import f_oneway\n",
    "\n",
    "# write the code to calculate the p-value\n",
    "test_stat, p_value = f_oneway(time_spent_English, time_spent_French, time_spent_Spanish)   #complete the code by filling appropriate parameters in the blanks\n",
    "\n",
    "print('The p-value is', p_value)"
   ]
  },
  {
   "cell_type": "markdown",
   "metadata": {
    "id": "a6MvtzfvKmOe"
   },
   "source": [
    "### Step 6: Compare the p-value with $\\alpha$"
   ]
  },
  {
   "cell_type": "code",
   "execution_count": 46,
   "metadata": {
    "id": "Ep85AInOKmOe"
   },
   "outputs": [
    {
     "name": "stdout",
     "output_type": "stream",
     "text": [
      "As the p-value 0.43204138694325955 is greater than the level of significance, we fail to reject the null hypothesis.\n"
     ]
    }
   ],
   "source": [
    "# print the conclusion based on p-value\n",
    "if p_value < 0.05:\n",
    "    print(f'As the p-value {p_value} is less than the level of significance, we reject the null hypothesis.')\n",
    "else:\n",
    "    print(f'As the p-value {p_value} is greater than the level of significance, we fail to reject the null hypothesis.')"
   ]
  },
  {
   "cell_type": "markdown",
   "metadata": {
    "id": "TNt8JyugKmOf"
   },
   "source": [
    "### Step 7:  Draw inference"
   ]
  },
  {
   "cell_type": "markdown",
   "metadata": {
    "id": "i24loRuKKmOf"
   },
   "source": [
    "A p value higher than the level of significance means that we dont have enough statistical evidence to reject the null hypothesis. A p value of 0.43 means that we are only about 65.7% sure that the time spent on the new page is different for at least one language. There is a 43.2% chance that the result is due to a random choice."
   ]
  },
  {
   "cell_type": "markdown",
   "metadata": {
    "id": "3acbc947"
   },
   "source": [
    "## Conclusion and Business Recommendations\n"
   ]
  },
  {
   "cell_type": "markdown",
   "metadata": {
    "id": "ckDGNsMNT2On"
   },
   "source": [
    "In conclusion, we have been able to carry out the experiment on the new page(the treatment group) and the old pae(the control group), to determine the behaviour of users across these two different pages. From the exploratory data analysis, we were able to visualise and have an idea on the effectiveness of the new page. This however was not enough so we had to calculate the statistical significance using hypothesis testing.\n",
    "\n",
    "Here are a few recommendations:\n",
    "* An increase in the sample size would help determine a better statistical significance of the results. The data should also be diversified to eliminate any form of bias which can affect the results.\n",
    "* The testing should be done over a period of time to ensure that the results are consistent."
   ]
  },
  {
   "cell_type": "markdown",
   "metadata": {
    "id": "LePUSkNSx8ML"
   },
   "source": [
    "___"
   ]
  }
 ],
 "metadata": {
  "colab": {
   "collapsed_sections": [
    "0f3ba03a",
    "jppevm24HW2P",
    "9d75cfa2",
    "WnqWiys631Ms",
    "RKxn0uc73665",
    "3RME3ORG4FN7",
    "kNu7sMLs70mx",
    "inS7KsVt724y",
    "99JkpQZO73Uz",
    "XTdb30lb9M65",
    "UdbuWJTvukrz",
    "wKuSrs67zZ81",
    "NAkPh1ThBTGD",
    "e6f99481",
    "sSdc8YDbBr9Y",
    "3Rex1rUxB3YZ",
    "agkGFqokCOb8",
    "58e9a1d0",
    "q9dW3eB-DTBF",
    "67Ozc0p8Dmbe",
    "27906576",
    "e5fdf0c8",
    "56b3dafd",
    "c7ee4907",
    "3f58c9a7",
    "5fed2eac",
    "f5c5258d",
    "359b12f8",
    "d9affc84",
    "353e9d24",
    "ZmZfv9znHmuI",
    "0LKutu87H7yi",
    "3QVRe46rH7yx",
    "QFo6RyfxIM9j",
    "L6XEIeGgIM9m",
    "Szx7nkG-I-87",
    "3koFwBllI-88",
    "LzcK3E4rI-89",
    "d49bfa2d",
    "0Yx13sMQJUHR",
    "8d585a90",
    "Zv5zTG0_KmOM",
    "BGDAeivqKmOa",
    "GNjvZTS2KmOb",
    "VTouvcdxKmOc",
    "ni6wGl2MKmOc",
    "8F-VCtK7KmOd",
    "a6MvtzfvKmOe",
    "TNt8JyugKmOf",
    "3acbc947"
   ],
   "name": "ENews_Express_Learner_Notebook[Low_Code_Version] (2).ipynb",
   "provenance": []
  },
  "kernelspec": {
   "display_name": "Python 3",
   "language": "python",
   "name": "python3"
  },
  "language_info": {
   "codemirror_mode": {
    "name": "ipython",
    "version": 3
   },
   "file_extension": ".py",
   "mimetype": "text/x-python",
   "name": "python",
   "nbconvert_exporter": "python",
   "pygments_lexer": "ipython3",
   "version": "3.8.5"
  }
 },
 "nbformat": 4,
 "nbformat_minor": 5
}
